{
 "cells": [
  {
   "cell_type": "code",
   "execution_count": 22,
   "metadata": {},
   "outputs": [],
   "source": [
    "import pickle\n",
    "import math\n",
    "import pandas as pd\n",
    "import numpy as np\n",
    "import scipy\n",
    "from scipy import stats\n",
    "import matplotlib.pyplot as plt"
   ]
  },
  {
   "cell_type": "markdown",
   "metadata": {},
   "source": [
    "#### Part 1: Expected Signifcance\n",
    "The purpose of this lab is to search for the Higgs boson in simulated LHC data, and then use machine learning to optimize event selections to enhance discovery sensitivity. The ideal event selections will be used on selected psuedo-experimental data."
   ]
  },
  {
   "cell_type": "code",
   "execution_count": 32,
   "metadata": {},
   "outputs": [
    {
     "name": "stdout",
     "output_type": "stream",
     "text": [
      "['pt', 'eta', 'phi', 'mass', 'ee2', 'ee3', 'd2', 'angularity', 't1', 't2', 't3', 't21', 't32', 'KtDeltaR']\n"
     ]
    }
   ],
   "source": [
    "qcd_file = open(\"qcd_100000_pt_1000_1200.pkl\", 'rb')\n",
    "qcd_d = pickle.load(qcd_file)\n",
    "\n",
    "higgs_file = open(\"higgs_100000_pt_1000_1200.pkl\", 'rb')\n",
    "higgs_d = pickle.load(higgs_file)\n",
    "\n",
    "high_lumi = pd.read_hdf('data_highLumi_pt_1000_1200.h5')\n",
    "low_lumi = pd.read_hdf('data_lowLumi_pt_1000_1200.h5')\n",
    "\n",
    "features = [key for key in qcd_d.keys()]\n",
    "print(features)"
   ]
  },
  {
   "cell_type": "markdown",
   "metadata": {},
   "source": [
    "According to the Standard Model, the Higgs field interacts with particles to give them mass. The Higgs boson is the quantum particle which interacts with the Higgs field. Using this understanding that mass is a defining feature of the Higgs particle, we can examine the mass of a a jet in order to discriminate between jets containing Higgs particles and those containing a variety of other quantum chromodynamic (QCD) particles.\n",
    "\n",
    "The goal of this analysis is to confirm the existence of the Higgs boson with maximum confidence, as direct observation of the particle is obscured by QCD noise."
   ]
  },
  {
   "cell_type": "code",
   "execution_count": 25,
   "metadata": {},
   "outputs": [
    {
     "data": {
      "image/png": "[encoded data removed]",
      "text/plain": [
       "<Figure size 1440x720 with 1 Axes>"
      ]
     },
     "metadata": {
      "needs_background": "light"
     },
     "output_type": "display_data"
    }
   ],
   "source": [
    "qcd_hist = plt.hist(qcd_d.mass, density=True, bins=1000, label='QCD')\n",
    "higgs_hist = plt.hist(higgs_d.mass, density=True, bins=1000, label='Higgs')\n",
    "plt.ylim(0,0.03)\n",
    "plt.xlim(0,400)\n",
    "plt.ylabel('Probability')\n",
    "plt.xlabel('Mass (GeV)')\n",
    "plt.legend()\n",
    "plt.show()"
   ]
  },
  {
   "cell_type": "markdown",
   "metadata": {},
   "source": [
    "The hisogram above compares the mass of a QCD jet (blue) and a Higgs jet (orange). By visual inspection, we can see that the histograms are very different, so mass would make for a good discriminatory feature. While Higgs particles may have a similar mass to QCD particles on average, Higgs particles have a much smaller standard deviation of mass, and appear to usually have a mass between 120 and 140 GeV.\n",
    "\n",
    "We assume that the mass distribution for the QCD background and Higgs signal are both Poisson with expected yields of $N_{QCD} = 2000$ and $N_{Higgs} = 50$. Each distribution has $\\lambda = N$, where N is its expected yield. The null hypothesis suggests that there is no Higgs particle, so the expected background would be $N_{QCD}$. What is the significance of having recorded $N_{QCD}+N_{Higgs}$ particles?"
   ]
  },
  {
   "cell_type": "code",
   "execution_count": 30,
   "metadata": {},
   "outputs": [
    {
     "name": "stdout",
     "output_type": "stream",
     "text": [
      "Significance:  1.1282230087754423\n"
     ]
    }
   ],
   "source": [
    "evh = 50\n",
    "evq = 2000\n",
    "evtot = evq + evh\n",
    "theoreticalsig = stats.norm.isf(stats.poisson.sf(evtot,evq))\n",
    "print('Significance: ', theoreticalsig)"
   ]
  },
  {
   "cell_type": "markdown",
   "metadata": {},
   "source": [
    "For a poisson distribution with large $\\lambda$ we can approximate with a gaussian distribituted variable with mean $\\lambda$ and standard deviation $\\sqrt{\\lambda}$\n",
    "\n",
    "$$S = \\Phi^{-1}(1-p)$$\n",
    "The p-value of the background only given an event $x$ is\n",
    "$$p = 1 - \\Phi({\\frac{x-\\mu}{\\sigma}})$$\n",
    "Where $\\mu = \\lambda_{QCD}$ and $\\sigma = \\sqrt{\\lambda_{QCD}}$,\n",
    "$$p = 1 - \\Phi({\\frac{x-\\lambda_{QCD}}{\\sqrt{\\lambda_{QCD}}}})$$\n",
    "Setting up for our equation for significance,\n",
    "$$1-p = \\Phi({\\frac{x-\\lambda_{QCD}}{\\sqrt{\\lambda_{QCD}}}})$$\n",
    "$$\\Phi^{-1}(1-p) = \\frac{x-\\lambda_{QCD}}{\\sqrt{\\lambda_{QCD}}}$$\n",
    "Finally our value for significance,\n",
    "$$S_x = \\frac{x-\\lambda_{QCD}}{\\sqrt{\\lambda_{QCD}}}$$\n",
    "The average of X is $\\lambda_{QCD}+\\lambda_{Higgs}$\n",
    "$$S_{avg} = \\frac{\\lambda_{Higgs}}{\\sqrt{\\lambda_{QCD}}}$$\n",
    "\n",
    "By this formula, the average significance of the distribution X (the sum of the Higgs and QCD distributions) is $\\frac{N_{Higgs}}{\\sqrt{N_{QCD}}}$."
   ]
  },
  {
   "cell_type": "code",
   "execution_count": 31,
   "metadata": {},
   "outputs": [
    {
     "name": "stdout",
     "output_type": "stream",
     "text": [
      "Significance:  1.118033988749895\n"
     ]
    }
   ],
   "source": [
    "observed_sig = evh/math.sqrt(evq)\n",
    "print(\"Significance: \", observed_sig)"
   ]
  },
  {
   "cell_type": "markdown",
   "metadata": {},
   "source": [
    "The difference between our significance calculation using Poisson statistics and the analytic formula we derived was almost negligible at ~0.01 sigma.  \n",
    "\n",
    "\n",
    "### Part 2: Optimize Event Selection\n",
    "Now, using our analytic formula, we find subsets of the data with the highest expected significance. First we visualize the data with a scatter plot,"
   ]
  },
  {
   "cell_type": "code",
   "execution_count": 4,
   "metadata": {},
   "outputs": [],
   "source": []
  }
 ],
 "metadata": {
  "kernelspec": {
   "display_name": "Python 3",
   "language": "python",
   "name": "python3"
  },
  "language_info": {
   "codemirror_mode": {
    "name": "ipython",
    "version": 3
   },
   "file_extension": ".py",
   "mimetype": "text/x-python",
   "name": "python",
   "nbconvert_exporter": "python",
   "pygments_lexer": "ipython3",
   "version": "3.7.4"
  }
 },
 "nbformat": 4,
 "nbformat_minor": 4
}
