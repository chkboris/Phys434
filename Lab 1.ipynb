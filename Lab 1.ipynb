{
 "cells": [
  {
   "cell_type": "code",
   "execution_count": 100,
   "metadata": {},
   "outputs": [],
   "source": [
    "%matplotlib inline\n",
    "import numpy as np\n",
    "import matplotlib\n",
    "import matplotlib.pyplot as plt\n",
    "import scipy\n",
    "import math\n",
    "from scipy import stats\n",
    "\n",
    "plt.rcParams[\"figure.figsize\"] = (15,10)"
   ]
  },
  {
   "cell_type": "markdown",
   "metadata": {},
   "source": [
    "## A little statistics"
   ]
  },
  {
   "cell_type": "markdown",
   "metadata": {},
   "source": [
    "1A)\n",
    "\n",
    "1B) We'll try several Z values to see the relation between stats.norm.cdf() to z-score values."
   ]
  },
  {
   "cell_type": "code",
   "execution_count": 101,
   "metadata": {},
   "outputs": [
    {
     "name": "stdout",
     "output_type": "stream",
     "text": [
      "cdf:  0.8413447460685429 Table Value:  0.84134\n",
      "cdf:  0.15865525393145707 Table Value:  0.15866\n",
      "cdf:  0.9772498680518208 Table Value:  0.97725\n"
     ]
    }
   ],
   "source": [
    "print(\"cdf: \" , stats.norm.cdf(1) , \"Table Value: \", 0.84134)\n",
    "print(\"cdf: \" , stats.norm.cdf(-1) , \"Table Value: \", 0.15866)\n",
    "print(\"cdf: \" , stats.norm.cdf(2) , \"Table Value: \", 0.97725)"
   ]
  },
  {
   "cell_type": "markdown",
   "metadata": {},
   "source": [
    "As we can see, cdf does indeed give values consistent with the z-table.\n",
    "\n",
    "1C) "
   ]
  },
  {
   "cell_type": "code",
   "execution_count": 102,
   "metadata": {},
   "outputs": [
    {
     "name": "stdout",
     "output_type": "stream",
     "text": [
      "ppf:  0.0 Expected Output:  0\n",
      "ppf:  0.9999803859660787 Expected Output:  1\n",
      "ppf:  1.9953933101678245 Expected Output:  2\n",
      "ppf:  5.199337582290661 Expected Output:  5\n",
      "ppf:  -0.9999803859660787 Expected Output:  -1\n"
     ]
    }
   ],
   "source": [
    "print(\"ppf: \", stats.norm.ppf(0.5), \"Expected Output: \", 0)\n",
    "print(\"ppf: \", stats.norm.ppf(0.84134), \"Expected Output: \", 1)\n",
    "print(\"ppf: \", stats.norm.ppf(0.977), \"Expected Output: \", 2)\n",
    "print(\"ppf: \", stats.norm.ppf(0.9999999), \"Expected Output: \", 5)\n",
    "print(\"ppf: \", stats.norm.ppf(0.15866), \"Expected Output: \", -1)"
   ]
  },
  {
   "cell_type": "markdown",
   "metadata": {},
   "source": [
    "1D) Minus signs appear for any probability plugged into the ppf which is less than 0.5. This makes sense, as the ppf function outputs z-scores, which are the number of standard deviations away from the mean (ie. z-score is zero at the mean). Thus, if we plug in a probability which is one standard deviation less than the mean, we would expect ppf to output a z-score of -1.\n",
    "\n",
    "2) I chose to investigate the exponential distribution."
   ]
  },
  {
   "cell_type": "code",
   "execution_count": 103,
   "metadata": {},
   "outputs": [
    {
     "data": {
      "image/png": "[encoded data removed]",
      "text/plain": [
       "<Figure size 1080x720 with 1 Axes>"
      ]
     },
     "metadata": {
      "needs_background": "light"
     },
     "output_type": "display_data"
    }
   ],
   "source": [
    "fig, ax = plt.subplots(1,1)\n",
    "d = stats.expon.rvs(loc = 0., scale = 1, size = 100000)\n",
    "ax.hist(d,50, density=True)\n",
    "plt.tick_params(labelsize=24)\n",
    "plt.xlim([0,5])\n",
    "x = np.linspace(0,5,1000)\n",
    "ax.plot(x,stats.expon.pdf(x, loc=0., scale = 1), linewidth = 8, alpha = 0.7)\n",
    "plt.show()"
   ]
  },
  {
   "cell_type": "markdown",
   "metadata": {},
   "source": [
    "3A) Suppose I record the number of days it takes between rainy days in Seattle in the spring, and find that it took five days between the last two rainy days.\n",
    "\n",
    "3B) What is the probability that it takes 5 or fewer days before the next rainy day, assuming that on average one in three days are rainy during spring in Seattle?\n",
    "\n",
    "3C) $\\int_{0}^{5} 3e^{-3x}dx$"
   ]
  },
  {
   "cell_type": "code",
   "execution_count": 104,
   "metadata": {},
   "outputs": [
    {
     "name": "stdout",
     "output_type": "stream",
     "text": [
      "D) Probability that background produced signal:  0.8111243971624382\n",
      "E) Z-score of above probability:  1.666666666666667\n"
     ]
    }
   ],
   "source": [
    "print(\"D) Probability that background produced signal: \" , stats.expon.cdf(5, scale=3))\n",
    "print(\"E) Z-score of above probability: \", stats.expon.ppf(stats.expon.cdf(5, scale=3)))"
   ]
  },
  {
   "cell_type": "markdown",
   "metadata": {},
   "source": [
    "4) Suppose that we wanted to see how the lambda parameter (rate of rainy days) effects the liklihood of consecutive rainy days:"
   ]
  },
  {
   "cell_type": "code",
   "execution_count": 105,
   "metadata": {},
   "outputs": [
    {
     "name": "stdout",
     "output_type": "stream",
     "text": [
      "1: One in two days are rainy, two rainy days within 5 days of eachother  0.9179150013761012\n",
      "2: One in six days are rainy, two rainy days within 5 days of eachother  0.5654017914929218\n",
      "3: One in ten days are rainy, two rainy days within 5 days of eachother  0.3934693402873666\n",
      "4: One in fifty days are rainy, two rainy days within 5 days of eachother  0.09516258196404044\n",
      "5: One in two days are rainy, two consecutive rainy days  0.3934693402873666\n",
      "6: One in six days are rainy, two consecutive rainy days  0.15351827510938593\n",
      "7: One in ten days are rainy, two consecutive rainy days  0.09516258196404044\n"
     ]
    }
   ],
   "source": [
    "print(\"1: One in two days are rainy, two rainy days within 5 days of eachother \" , stats.expon.cdf(5, scale=2))\n",
    "print(\"2: One in six days are rainy, two rainy days within 5 days of eachother \" , stats.expon.cdf(5, scale=6))\n",
    "print(\"3: One in ten days are rainy, two rainy days within 5 days of eachother \" , stats.expon.cdf(5, scale=10))\n",
    "print(\"4: One in fifty days are rainy, two rainy days within 5 days of eachother \" , stats.expon.cdf(5, scale=50))\n",
    "print(\"5: One in two days are rainy, two consecutive rainy days \" , stats.expon.cdf(1, scale=2))\n",
    "print(\"6: One in six days are rainy, two consecutive rainy days \" , stats.expon.cdf(1, scale=6))\n",
    "print(\"7: One in ten days are rainy, two consecutive rainy days \" , stats.expon.cdf(1, scale=10))"
   ]
  },
  {
   "cell_type": "markdown",
   "metadata": {},
   "source": [
    "It seems that for an exponential function, the ratio between x and lambda determines the probability of an event. Take lines 4 and 7 or 3 and 5 as examples from above. In both cases, the ratio of x/lambda is identical, and the probabilities returned by the cdf are identical."
   ]
  },
  {
   "cell_type": "markdown",
   "metadata": {},
   "source": [
    "## Non-continuous distributions"
   ]
  },
  {
   "cell_type": "markdown",
   "metadata": {},
   "source": [
    "1A) The Poisson distribution is a discrete probability distribution that expresses the probability of a given number of events occuring in a fixed interval of time or space if these events occur with a known constant mean rate and are independent of the time since the last event. In essence, the Poisson distribution is a discrete version of the exponential distribution.\n",
    "\n",
    "1B)"
   ]
  },
  {
   "cell_type": "code",
   "execution_count": 111,
   "metadata": {},
   "outputs": [
    {
     "data": {
      "text/plain": [
       "\u001b[0;31mSignature:\u001b[0m       \u001b[0mstats\u001b[0m\u001b[0;34m.\u001b[0m\u001b[0mpoisson\u001b[0m\u001b[0;34m(\u001b[0m\u001b[0;34m*\u001b[0m\u001b[0margs\u001b[0m\u001b[0;34m,\u001b[0m \u001b[0;34m**\u001b[0m\u001b[0mkwds\u001b[0m\u001b[0;34m)\u001b[0m\u001b[0;34m\u001b[0m\u001b[0;34m\u001b[0m\u001b[0m\n",
       "\u001b[0;31mType:\u001b[0m            poisson_gen\n",
       "\u001b[0;31mString form:\u001b[0m     <scipy.stats._discrete_distns.poisson_gen object at 0x7f30c51b9c50>\n",
       "\u001b[0;31mFile:\u001b[0m            /opt/conda/lib/python3.7/site-packages/scipy/stats/_discrete_distns.py\n",
       "\u001b[0;31mDocstring:\u001b[0m      \n",
       "A Poisson discrete random variable.\n",
       "\n",
       "As an instance of the `rv_discrete` class, `poisson` object inherits from it\n",
       "a collection of generic methods (see below for the full list),\n",
       "and completes them with details specific for this particular distribution.\n",
       "\n",
       "Methods\n",
       "-------\n",
       "rvs(mu, loc=0, size=1, random_state=None)\n",
       "    Random variates.\n",
       "pmf(k, mu, loc=0)\n",
       "    Probability mass function.\n",
       "logpmf(k, mu, loc=0)\n",
       "    Log of the probability mass function.\n",
       "cdf(k, mu, loc=0)\n",
       "    Cumulative distribution function.\n",
       "logcdf(k, mu, loc=0)\n",
       "    Log of the cumulative distribution function.\n",
       "sf(k, mu, loc=0)\n",
       "    Survival function  (also defined as ``1 - cdf``, but `sf` is sometimes more accurate).\n",
       "logsf(k, mu, loc=0)\n",
       "    Log of the survival function.\n",
       "ppf(q, mu, loc=0)\n",
       "    Percent point function (inverse of ``cdf`` --- percentiles).\n",
       "isf(q, mu, loc=0)\n",
       "    Inverse survival function (inverse of ``sf``).\n",
       "stats(mu, loc=0, moments='mv')\n",
       "    Mean('m'), variance('v'), skew('s'), and/or kurtosis('k').\n",
       "entropy(mu, loc=0)\n",
       "    (Differential) entropy of the RV.\n",
       "expect(func, args=(mu,), loc=0, lb=None, ub=None, conditional=False)\n",
       "    Expected value of a function (of one argument) with respect to the distribution.\n",
       "median(mu, loc=0)\n",
       "    Median of the distribution.\n",
       "mean(mu, loc=0)\n",
       "    Mean of the distribution.\n",
       "var(mu, loc=0)\n",
       "    Variance of the distribution.\n",
       "std(mu, loc=0)\n",
       "    Standard deviation of the distribution.\n",
       "interval(alpha, mu, loc=0)\n",
       "    Endpoints of the range that contains alpha percent of the distribution\n",
       "\n",
       "Notes\n",
       "-----\n",
       "The probability mass function for `poisson` is:\n",
       "\n",
       ".. math::\n",
       "\n",
       "    f(k) = \\exp(-\\mu) \\frac{\\mu^k}{k!}\n",
       "\n",
       "for :math:`k \\ge 0`.\n",
       "\n",
       "`poisson` takes :math:`\\mu` as shape parameter.\n",
       "\n",
       "The probability mass function above is defined in the \"standardized\" form.\n",
       "To shift distribution use the ``loc`` parameter.\n",
       "Specifically, ``poisson.pmf(k, mu, loc)`` is identically\n",
       "equivalent to ``poisson.pmf(k - loc, mu)``.\n",
       "\n",
       "Examples\n",
       "--------\n",
       ">>> from scipy.stats import poisson\n",
       ">>> import matplotlib.pyplot as plt\n",
       ">>> fig, ax = plt.subplots(1, 1)\n",
       "\n",
       "Calculate a few first moments:\n",
       "\n",
       ">>> mu = 0.6\n",
       ">>> mean, var, skew, kurt = poisson.stats(mu, moments='mvsk')\n",
       "\n",
       "Display the probability mass function (``pmf``):\n",
       "\n",
       ">>> x = np.arange(poisson.ppf(0.01, mu),\n",
       "...               poisson.ppf(0.99, mu))\n",
       ">>> ax.plot(x, poisson.pmf(x, mu), 'bo', ms=8, label='poisson pmf')\n",
       ">>> ax.vlines(x, 0, poisson.pmf(x, mu), colors='b', lw=5, alpha=0.5)\n",
       "\n",
       "Alternatively, the distribution object can be called (as a function)\n",
       "to fix the shape and location. This returns a \"frozen\" RV object holding\n",
       "the given parameters fixed.\n",
       "\n",
       "Freeze the distribution and display the frozen ``pmf``:\n",
       "\n",
       ">>> rv = poisson(mu)\n",
       ">>> ax.vlines(x, 0, rv.pmf(x), colors='k', linestyles='-', lw=1,\n",
       "...         label='frozen pmf')\n",
       ">>> ax.legend(loc='best', frameon=False)\n",
       ">>> plt.show()\n",
       "\n",
       "Check accuracy of ``cdf`` and ``ppf``:\n",
       "\n",
       ">>> prob = poisson.cdf(x, mu)\n",
       ">>> np.allclose(x, poisson.ppf(prob, mu))\n",
       "True\n",
       "\n",
       "Generate random numbers:\n",
       "\n",
       ">>> r = poisson.rvs(mu, size=1000)\n",
       "\u001b[0;31mClass docstring:\u001b[0m\n",
       "A Poisson discrete random variable.\n",
       "\n",
       "%(before_notes)s\n",
       "\n",
       "Notes\n",
       "-----\n",
       "The probability mass function for `poisson` is:\n",
       "\n",
       ".. math::\n",
       "\n",
       "    f(k) = \\exp(-\\mu) \\frac{\\mu^k}{k!}\n",
       "\n",
       "for :math:`k \\ge 0`.\n",
       "\n",
       "`poisson` takes :math:`\\mu` as shape parameter.\n",
       "\n",
       "%(after_notes)s\n",
       "\n",
       "%(example)s\n",
       "\u001b[0;31mCall docstring:\u001b[0m \n",
       "Freeze the distribution for the given arguments.\n",
       "\n",
       "Parameters\n",
       "----------\n",
       "arg1, arg2, arg3,... : array_like\n",
       "    The shape parameter(s) for the distribution.  Should include all\n",
       "    the non-optional arguments, may include ``loc`` and ``scale``.\n",
       "\n",
       "Returns\n",
       "-------\n",
       "rv_frozen : rv_frozen instance\n",
       "    The frozen distribution.\n"
      ]
     },
     "metadata": {},
     "output_type": "display_data"
    }
   ],
   "source": [
    "stats.poisson?"
   ]
  },
  {
   "cell_type": "code",
   "execution_count": 121,
   "metadata": {},
   "outputs": [
    {
     "ename": "TypeError",
     "evalue": "pmf() missing 1 required positional argument: 'k'",
     "output_type": "error",
     "traceback": [
      "\u001b[0;31m---------------------------------------------------------------------------\u001b[0m",
      "\u001b[0;31mTypeError\u001b[0m                                 Traceback (most recent call last)",
      "\u001b[0;32m<ipython-input-121-2bab2ee087b2>\u001b[0m in \u001b[0;36m<module>\u001b[0;34m\u001b[0m\n\u001b[1;32m      5\u001b[0m \u001b[0mplt\u001b[0m\u001b[0;34m.\u001b[0m\u001b[0mxlim\u001b[0m\u001b[0;34m(\u001b[0m\u001b[0;34m[\u001b[0m\u001b[0;36m0\u001b[0m\u001b[0;34m,\u001b[0m\u001b[0;36m5\u001b[0m\u001b[0;34m]\u001b[0m\u001b[0;34m)\u001b[0m\u001b[0;34m\u001b[0m\u001b[0;34m\u001b[0m\u001b[0m\n\u001b[1;32m      6\u001b[0m \u001b[0mx\u001b[0m \u001b[0;34m=\u001b[0m \u001b[0mnp\u001b[0m\u001b[0;34m.\u001b[0m\u001b[0mlinspace\u001b[0m\u001b[0;34m(\u001b[0m\u001b[0;36m0\u001b[0m\u001b[0;34m,\u001b[0m\u001b[0;36m5\u001b[0m\u001b[0;34m,\u001b[0m\u001b[0;36m1000\u001b[0m\u001b[0;34m)\u001b[0m\u001b[0;34m\u001b[0m\u001b[0;34m\u001b[0m\u001b[0m\n\u001b[0;32m----> 7\u001b[0;31m \u001b[0max\u001b[0m\u001b[0;34m.\u001b[0m\u001b[0mplot\u001b[0m\u001b[0;34m(\u001b[0m\u001b[0mx\u001b[0m\u001b[0;34m,\u001b[0m\u001b[0mstats\u001b[0m\u001b[0;34m.\u001b[0m\u001b[0mpoisson\u001b[0m\u001b[0;34m.\u001b[0m\u001b[0mpmf\u001b[0m\u001b[0;34m(\u001b[0m\u001b[0mmu\u001b[0m \u001b[0;34m=\u001b[0m \u001b[0mx\u001b[0m\u001b[0;34m)\u001b[0m\u001b[0;34m,\u001b[0m \u001b[0mlinewidth\u001b[0m \u001b[0;34m=\u001b[0m \u001b[0;36m8\u001b[0m\u001b[0;34m,\u001b[0m \u001b[0malpha\u001b[0m \u001b[0;34m=\u001b[0m \u001b[0;36m0.7\u001b[0m\u001b[0;34m)\u001b[0m\u001b[0;34m\u001b[0m\u001b[0;34m\u001b[0m\u001b[0m\n\u001b[0m\u001b[1;32m      8\u001b[0m \u001b[0mplt\u001b[0m\u001b[0;34m.\u001b[0m\u001b[0mshow\u001b[0m\u001b[0;34m(\u001b[0m\u001b[0;34m)\u001b[0m\u001b[0;34m\u001b[0m\u001b[0;34m\u001b[0m\u001b[0m\n",
      "\u001b[0;31mTypeError\u001b[0m: pmf() missing 1 required positional argument: 'k'"
     ]
    },
    {
     "data": {
      "image/png": "[encoded data removed]",
      "text/plain": [
       "<Figure size 1080x720 with 1 Axes>"
      ]
     },
     "metadata": {
      "needs_background": "light"
     },
     "output_type": "display_data"
    }
   ],
   "source": [
    "fig, ax = plt.subplots(1,1)\n",
    "d = stats.poisson.rvs(mu = 0, size = 1000)\n",
    "ax.hist(d,50, density=True)\n",
    "plt.tick_params(labelsize=24)\n",
    "plt.xlim([0,5])\n",
    "x = np.linspace(0,5,1000)\n",
    "ax.plot(x,stats.poisson.pmf(mu = x), linewidth = 8, alpha = 0.7)\n",
    "plt.show()"
   ]
  },
  {
   "cell_type": "code",
   "execution_count": 109,
   "metadata": {},
   "outputs": [
    {
     "data": {
      "image/png": "[encoded data removed]",
      "text/plain": [
       "<Figure size 1080x720 with 1 Axes>"
      ]
     },
     "metadata": {
      "needs_background": "light"
     },
     "output_type": "display_data"
    }
   ],
   "source": [
    "#fig, ax = plt.subplots(2,2)\n",
    "d = stats.expon.rvs(loc = 0., scale = 1, size = 100000)\n",
    "ax.hist(d,50, density=True)\n",
    "plt.tick_params(labelsize=24)\n",
    "plt.xlim([0,5])\n",
    "x = np.linspace(0,5,1000)\n",
    "ax.plot(x,stats.expon.pdf(x, loc=0., scale = 1), linewidth = 8, alpha = 0.7)\n",
    "plt.show()"
   ]
  }
 ],
 "metadata": {
  "kernelspec": {
   "display_name": "Python 3",
   "language": "python",
   "name": "python3"
  },
  "language_info": {
   "codemirror_mode": {
    "name": "ipython",
    "version": 3
   },
   "file_extension": ".py",
   "mimetype": "text/x-python",
   "name": "python",
   "nbconvert_exporter": "python",
   "pygments_lexer": "ipython3",
   "version": "3.7.4"
  }
 },
 "nbformat": 4,
 "nbformat_minor": 4
}
