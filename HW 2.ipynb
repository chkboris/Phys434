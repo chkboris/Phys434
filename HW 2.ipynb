{
 "cells": [
  {
   "cell_type": "code",
   "execution_count": 1,
   "metadata": {},
   "outputs": [],
   "source": [
    "import numpy as np\n",
    "import scipy\n",
    "from scipy import stats, signal\n",
    "import matplotlib.pyplot as plt\n",
    "import matplotlib\n",
    "import random as r\n",
    "\n",
    "plt.rcParams[\"figure.figsize\"] = (15,10)"
   ]
  },
  {
   "cell_type": "markdown",
   "metadata": {},
   "source": [
    "#### Problem 1\n",
    "\n",
    "Which is more probable when rolling 2 six-sided dice: rolling snake eyes or rolling sevens? What is the ratio of the probabilities?\n",
    "\n",
    "I predict that rolling sevens is more common, as there is only a single way for two dice to roll snake eyes, whereas there are multiple ways for them to roll seven. I expect that rolling a seven will be about 6 times as likely as rolling snake eyes."
   ]
  },
  {
   "cell_type": "code",
   "execution_count": 2,
   "metadata": {},
   "outputs": [
    {
     "name": "stdout",
     "output_type": "stream",
     "text": [
      "Snake Eyes Count:  2765\n",
      "Sevens Count:  16732\n",
      "Ratio P(seven)/P(Snake Eyes):  6.051356238698011\n"
     ]
    }
   ],
   "source": [
    "snakeeyes = 0\n",
    "seven = 0\n",
    "for roll in range(1,100000):\n",
    "    roll1 = r.randrange(1,7)\n",
    "    roll2 = r.randrange(1,7)\n",
    "    if(roll1 == 1 and roll2 == 2):\n",
    "        snakeeyes += 1\n",
    "    if(roll1+roll2 == 7):\n",
    "        seven += 1\n",
    "\n",
    "print(\"Snake Eyes Count: \" , snakeeyes)\n",
    "print(\"Sevens Count: \", seven)\n",
    "print(\"Ratio P(seven)/P(Snake Eyes): \", seven/snakeeyes)"
   ]
  },
  {
   "cell_type": "markdown",
   "metadata": {},
   "source": [
    "As we can see, the numerical ratio of sevens to snake eyes is indeed near six.\n",
    "\n",
    "#### Problem 2\n",
    "\n",
    "Following what we did in class show how to use the convolution operator to determine the probability of the sum of 2 six sided dice. Do both analytically (math & counting) and numerically (computer program). Beware the implicit definition of the values (x-axis on histogram).\n",
    "\n",
    "Analytical solution\n",
    "\n",
    "$$P_{A+B}(x) = \\sum_z P_A(z)P_B(x-z)$$\n",
    "\n",
    "Numerical Solution:"
   ]
  },
  {
   "cell_type": "code",
   "execution_count": 4,
   "metadata": {},
   "outputs": [
    {
     "data": {
      "image/png": "[encoded data removed]",
      "text/plain": [
       "<Figure size 1080x720 with 1 Axes>"
      ]
     },
     "metadata": {
      "needs_background": "light"
     },
     "output_type": "display_data"
    }
   ],
   "source": [
    "prob = scipy.signal.convolve([1/6, 1/6, 1/6, 1/6, 1/6, 1/6], [1/6, 1/6, 1/6, 1/6, 1/6, 1/6])\n",
    "x = range(2,13)\n",
    "plt.bar(x,prob)\n",
    "plt.title('Convolution Probabilities For Two Six Sided Dice')\n",
    "plt.show()"
   ]
  },
  {
   "cell_type": "markdown",
   "metadata": {},
   "source": [
    "#### Problem 3\n",
    "\n",
    "Calculate the mean and variance of the distribution in problem 2:\n",
    "\n",
    "We choose to not use the sample variance formula, as we are looking at a distribution with fixed values and not a sample of a distribution."
   ]
  },
  {
   "cell_type": "code",
   "execution_count": 13,
   "metadata": {},
   "outputs": [
    {
     "data": {
      "text/plain": [
       "0.6363636363636364"
      ]
     },
     "execution_count": 13,
     "metadata": {},
     "output_type": "execute_result"
    }
   ],
   "source": [
    "mean = sum(prob*x)/len(x)\n"
   ]
  }
 ],
 "metadata": {
  "kernelspec": {
   "display_name": "Python 3",
   "language": "python",
   "name": "python3"
  },
  "language_info": {
   "codemirror_mode": {
    "name": "ipython",
    "version": 3
   },
   "file_extension": ".py",
   "mimetype": "text/x-python",
   "name": "python",
   "nbconvert_exporter": "python",
   "pygments_lexer": "ipython3",
   "version": "3.7.4"
  }
 },
 "nbformat": 4,
 "nbformat_minor": 4
}
