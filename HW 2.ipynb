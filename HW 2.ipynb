{
 "cells": [
  {
   "cell_type": "markdown",
   "metadata": {},
   "source": [
    "1) Which is more probable when rolling 2 six-sided dice: rolling snake eyes or rolling sevens? What is the ratio of the probabilities?\n",
    "\n",
    "I predict that rolling sevens is more common, as there is only a single way for two dice to roll snake eyes, whereas there are multiple ways for them to roll seven. I expect that rolling a seven will be about 6 times as likely as rolling snake eyes."
   ]
  },
  {
   "cell_type": "code",
   "execution_count": 24,
   "metadata": {},
   "outputs": [
    {
     "name": "stdout",
     "output_type": "stream",
     "text": [
      "Snake Eyes Count:  268\n",
      "Sevens Count:  1658\n",
      "Ratio P(seven)/P(Snake Eyes):  6.186567164179104\n"
     ]
    }
   ],
   "source": [
    "import random as r\n",
    "snakeeyes = 0\n",
    "seven = 0\n",
    "for roll in range(1,10000):\n",
    "    roll1 = r.randrange(1,7)\n",
    "    roll2 = r.randrange(1,7)\n",
    "    if(roll1 == 1 and roll2 == 2):\n",
    "        snakeeyes += 1\n",
    "    if(roll1+roll2 == 7):\n",
    "        seven += 1\n",
    "\n",
    "print(\"Snake Eyes Count: \" , snakeeyes)\n",
    "print(\"Sevens Count: \", seven)\n",
    "print(\"Ratio P(seven)/P(Snake Eyes): \", seven/snakeeyes)"
   ]
  },
  {
   "cell_type": "markdown",
   "metadata": {},
   "source": []
  }
 ],
 "metadata": {
  "kernelspec": {
   "display_name": "Python 3",
   "language": "python",
   "name": "python3"
  },
  "language_info": {
   "codemirror_mode": {
    "name": "ipython",
    "version": 3
   },
   "file_extension": ".py",
   "mimetype": "text/x-python",
   "name": "python",
   "nbconvert_exporter": "python",
   "pygments_lexer": "ipython3",
   "version": "3.7.4"
  }
 },
 "nbformat": 4,
 "nbformat_minor": 4
}
