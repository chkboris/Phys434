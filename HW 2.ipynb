{
 "cells": [
  {
   "cell_type": "code",
   "execution_count": 1,
   "metadata": {},
   "outputs": [],
   "source": [
    "import numpy as np\n",
    "import scipy\n",
    "from scipy import stats, signal\n",
    "import matplotlib.pyplot as plt\n",
    "import matplotlib\n",
    "import random as r\n",
    "\n",
    "r.seed(12345)\n",
    "plt.rcParams[\"figure.figsize\"] = (15,10)"
   ]
  },
  {
   "cell_type": "markdown",
   "metadata": {},
   "source": [
    "#### Problem 1\n",
    "\n",
    "Which is more probable when rolling 2 six-sided dice: rolling snake eyes or rolling sevens? What is the ratio of the probabilities?\n",
    "\n",
    "I predict that rolling sevens is more common, as there is only a single way for two dice to roll snake eyes, whereas there are multiple ways for them to roll seven. I expect that rolling a seven will be about 6 times as likely as rolling snake eyes."
   ]
  },
  {
   "cell_type": "code",
   "execution_count": 2,
   "metadata": {},
   "outputs": [
    {
     "name": "stdout",
     "output_type": "stream",
     "text": [
      "Snake Eyes Count:  2765\n",
      "Sevens Count:  16732\n",
      "Ratio P(seven)/P(Snake Eyes):  6.051356238698011\n"
     ]
    }
   ],
   "source": [
    "snakeeyes = 0\n",
    "seven = 0\n",
    "for roll in range(1,100000):\n",
    "    roll1 = r.randrange(1,7)\n",
    "    roll2 = r.randrange(1,7)\n",
    "    if(roll1 == 1 and roll2 == 2):\n",
    "        snakeeyes += 1\n",
    "    if(roll1+roll2 == 7):\n",
    "        seven += 1\n",
    "\n",
    "print(\"Snake Eyes Count: \" , snakeeyes)\n",
    "print(\"Sevens Count: \", seven)\n",
    "print(\"Ratio P(seven)/P(Snake Eyes): \", seven/snakeeyes)"
   ]
  },
  {
   "cell_type": "markdown",
   "metadata": {},
   "source": [
    "As we can see, the numerical ratio of sevens to snake eyes is indeed near six.\n",
    "\n",
    "#### Problem 2\n",
    "\n",
    "Following what we did in class show how to use the convolution operator to determine the probability of the sum of 2 six sided dice. Do both analytically (math & counting) and numerically (computer program). Beware the implicit definition of the values (x-axis on histogram).\n",
    "\n",
    "Analytical solution\n",
    "\n",
    "$$P_{A+B}(x) = \\sum_z P_A(z)P_B(x-z)$$\n",
    "\n",
    "Numerical Solution:"
   ]
  },
  {
   "cell_type": "code",
   "execution_count": 48,
   "metadata": {},
   "outputs": [
    {
     "data": {
      "image/png": "[encoded data removed]",
      "text/plain": [
       "<Figure size 1080x720 with 1 Axes>"
      ]
     },
     "metadata": {
      "needs_background": "light"
     },
     "output_type": "display_data"
    }
   ],
   "source": [
    "d6 = [1/6, 1/6, 1/6, 1/6, 1/6, 1/6]\n",
    "prob = scipy.signal.convolve(d6, d6)\n",
    "x = range(2,13)\n",
    "plt.bar(x,prob)\n",
    "plt.title('Convolution Probabilities For Two Six Sided Dice')\n",
    "plt.show()"
   ]
  },
  {
   "cell_type": "markdown",
   "metadata": {},
   "source": [
    "#### Problem 3\n",
    "\n",
    "Calculate the mean and variance of the distribution in problem 2:\n",
    "\n",
    "We choose to not use the sample variance formula, as we are looking at a distribution with fixed values and not a sample of a distribution."
   ]
  },
  {
   "cell_type": "code",
   "execution_count": 51,
   "metadata": {},
   "outputs": [
    {
     "name": "stdout",
     "output_type": "stream",
     "text": [
      "Distribution Mean:  7.0\n",
      "Distribution Variance:  5.833\n"
     ]
    }
   ],
   "source": [
    "mean = sum(prob*x)\n",
    "variance = sum(prob*np.square(x)) - mean**2\n",
    "\n",
    "print(\"Distribution Mean: \" , np.round(mean, 3))\n",
    "print(\"Distribution Variance: \" , np.round(variance,3))"
   ]
  },
  {
   "cell_type": "markdown",
   "metadata": {},
   "source": [
    "#### Problem 4\n",
    "\n",
    "Repeat 2, and graph the average of 10 dice. Is this a Gaussian distribution? explain in depth."
   ]
  },
  {
   "cell_type": "code",
   "execution_count": 52,
   "metadata": {},
   "outputs": [
    {
     "data": {
      "image/png": "[encoded data removed]",
      "text/plain": [
       "<Figure size 1080x720 with 2 Axes>"
      ]
     },
     "metadata": {
      "needs_background": "light"
     },
     "output_type": "display_data"
    }
   ],
   "source": [
    "x = np.arange(1,6.1,0.1).tolist()\n",
    "p4 = d6\n",
    "\n",
    "for i in range(1,10):\n",
    "    p4 = scipy.signal.convolve(d6,p4)\n",
    "\n",
    "fig, (ax1,ax2) = plt.subplots(1,2)\n",
    "ax1.bar(x, p4)\n",
    "ax2.bar(x, p4)\n",
    "ax2.set_yscale('log')\n",
    "plt.show()"
   ]
  },
  {
   "cell_type": "markdown",
   "metadata": {},
   "source": [
    "Suppose we assume that our sample comes from a normal distribution. In that case, we would expect that when we perform the normal test, it should return a p-value greater than 0.05. If the normal test returns a smaller p-value, we can reject the null hypothesis and state that our sample did not come from a normal distribution - and therefore, the distribution we created through convolving the averages of 10 six sided dice is not gaussian.\n",
    "\n",
    "In order to further make sure that our p-value is not a fluke, we will perform the normal test multiple times with new samples taken from both our distribution and the normal distribution, and then investigate the mean of those p-values."
   ]
  },
  {
   "cell_type": "code",
   "execution_count": 76,
   "metadata": {},
   "outputs": [
    {
     "name": "stdout",
     "output_type": "stream",
     "text": [
      "Average p-value of 100 samples taken from convolution distribution:  0.2229240269473493\n",
      "Average p-value of 100 samples taken from normal distribution 0.47205100766109903\n"
     ]
    }
   ],
   "source": [
    "#Take sample from the distribution we just made\n",
    "s_sum = 0\n",
    "n_sum = 0\n",
    "for trial in range (1,101):\n",
    "    s =  stats.rv_discrete(values=(x,p1)).rvs(size=50000)\n",
    "    n = stats.norm.rvs(size=50000)\n",
    "    s_sum += stats.normaltest(s).pvalue\n",
    "    n_sum += stats.normaltest(n).pvalue\n",
    "    \n",
    "s_mean = s_sum/100\n",
    "n_mean = n_sum/100\n",
    "#Compare sample to a random sample from a normal distribution\n",
    "print(\"Average p-value of 100 samples taken from convolution distribution: \" , s_mean)\n",
    "print(\"Average p-value of 100 samples taken from normal distribution\" , n_mean)\n"
   ]
  },
  {
   "cell_type": "markdown",
   "metadata": {},
   "source": [
    "As we can see, the average probability that our sample comes from a normal distribution is greater than 0.05. Therefore we cannot the null hypothesis and it is possible that our distribution is gaussian. That said, when we compare the average p-value of our distribution to the average p-value of a sample taken from a normal distribution, we do see a marked difference. Therefore I expect (but cannot prove) that our convolution distribution approaches a gaussian distribution as we increae the number of dice we use.\n",
    "\n",
    "#### Problem 5\n",
    "\n",
    "Show that the sum and average of an initially Gaussian distribution is also a Gaussian. How does the standard deviation of the resulting sum or average Gaussian change?"
   ]
  },
  {
   "cell_type": "markdown",
   "metadata": {},
   "source": []
  }
 ],
 "metadata": {
  "kernelspec": {
   "display_name": "Python 3",
   "language": "python",
   "name": "python3"
  },
  "language_info": {
   "codemirror_mode": {
    "name": "ipython",
    "version": 3
   },
   "file_extension": ".py",
   "mimetype": "text/x-python",
   "name": "python",
   "nbconvert_exporter": "python",
   "pygments_lexer": "ipython3",
   "version": "3.7.4"
  }
 },
 "nbformat": 4,
 "nbformat_minor": 4
}
