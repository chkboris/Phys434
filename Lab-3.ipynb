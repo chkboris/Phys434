{
 "cells": [
  {
   "cell_type": "code",
   "execution_count": 1,
   "metadata": {},
   "outputs": [],
   "source": [
    "import numpy as np\n",
    "import matplotlib\n",
    "import matplotlib.pyplot as plt\n",
    "import scipy\n",
    "from scipy import stats\n",
    "\n",
    "plt.rcParams[\"figure.figsize\"] = (20,10)"
   ]
  },
  {
   "cell_type": "markdown",
   "metadata": {},
   "source": [
    "# Lab #3: Asking a Statistical Question\n",
    "\n",
    "### Problem 1:\n",
    "We are performing an expirment which only works reliably in a narrow temperature range around 12 Kelvin. When the temperature control system is working correctly, it should maintain a temperature around 12 Kelvin with a standard deviation of 0.4K. We want to discard data in cases where the temperature control system is not working correctly, and also discard data when our thermometry which measures the temperature is malfunctioning.\n",
    "\n",
    "#### A) Our goal is to identify the bad data and throw it out.\n",
    "\n",
    "##### 1) Start by exploring the data you have created with appropriate plots."
   ]
  },
  {
   "cell_type": "code",
   "execution_count": 2,
   "metadata": {},
   "outputs": [
    {
     "data": {
      "image/png": "[encoded data removed]",
      "text/plain": [
       "<Figure size 1440x720 with 2 Axes>"
      ]
     },
     "metadata": {
      "needs_background": "light"
     },
     "output_type": "display_data"
    }
   ],
   "source": [
    "fig, (plt1,plt2) = plt.subplots(1,2)\n",
    "np.random.seed(1234)\n",
    "\n",
    "dist = stats.norm.rvs(loc = 12., scale = 0.4, size = 100000)\n",
    "plt1.hist(dist, np.arange(10,14,0.2))\n",
    "\n",
    "#Bad Data:\n",
    "b = [10., 10.3, 2.1, 0., 0., 15.6, 22.3, 12.7]\n",
    "\n",
    "dist = np.append(dist,b)\n",
    "plt2.hist(dist, np.arange(0,23,0.2))\n",
    "plt2.hist(b, np.arange(0,23,0.2))\n",
    "\n",
    "plt1.set_yscale('log')\n",
    "plt2.set_yscale('log')\n",
    "\n",
    "plt1.title.set_text('Only Normal Data')\n",
    "plt2.title.set_text('Normal Data with Bad Data Highlighted')\n",
    "plt.show()"
   ]
  },
  {
   "cell_type": "markdown",
   "metadata": {},
   "source": [
    "##### 2) State the statistical question in words. Be very clear, and describe why you have chosen this statistical question.\n",
    "Suppose we have a temperature measurement A. What is the probability that a random measurement produced by a gaussian distribution centered at 12K with a standard deviation of 0.4K would be as far, or further from the mean, than A? Let us discard any measurement which exceeds the threshold 3 $\\sigma$.\n",
    "\n",
    "##### 3) Restate your question in math. Be very clear.\n",
    "This function will give us the probability of getting measurement A from a gaussian distribution centered at 12K with a standard deviation of 0.4K\n",
    "$$P(A) = 2*\\int_{|A-12|}^\\infty\\frac{1}{0.4}e^{\\frac{-1}{2}*(\\frac{x}{0.4})^2}$$\n",
    "This is the quantile function, and will convert a probability into corresponding z-score for the standard normal distribution.\n",
    "$$\\Phi(p) = \\sqrt{2}\\erf^{-1}(2p-1)$$\n",
    "Finally, we must choose whether to discard or keep the measurement:\n",
    "$$\\begin{cases}\\Phi \\leq 3, & Keep \\\\ \\Phi > 3, & Discard \\end{cases}$$\n",
    "\n",
    "##### 4) Apply your statistical test and construct a truth table"
   ]
  },
  {
   "cell_type": "code",
   "execution_count": 4,
   "metadata": {},
   "outputs": [
    {
     "name": "stdout",
     "output_type": "stream",
     "text": [
      "Good data points kept:  99741 \n",
      "Good data points discarded:  259 \n",
      "Total good data points:  100000\n",
      "\n",
      "Bad data points kept:  1 \n",
      "Bad data points discarded:  7 \n",
      "Total bad data points:  8\n"
     ]
    }
   ],
   "source": [
    "np.random.seed(1234)\n",
    "dist = stats.norm.rvs(loc = 12., scale = 0.4, size = 100000)\n",
    "b = np.array([10., 10.3, 2.1, 0., 0., 15.6, 22.3, 12.7])\n",
    "\n",
    "#Counts\n",
    "good_keep = 0\n",
    "good_discard = 0\n",
    "bad_keep = 0\n",
    "bad_discard = 0\n",
    "\n",
    "maxSigma = 3\n",
    "\n",
    "dist = abs(dist-12)\n",
    "b = abs(b-12)\n",
    "p1 = stats.norm.cdf(-dist,scale=0.4)\n",
    "p1 = 1-p1\n",
    "s1 = stats.norm.ppf(p1, loc=0,scale=1)\n",
    "\n",
    "p2 = 2*stats.norm.cdf(-b,scale=0.4)\n",
    "p2 = 1-p2\n",
    "s2 = stats.norm.ppf(p2,loc=0,scale=1)\n",
    "\n",
    "for data in s1:\n",
    "    if data <= maxSigma:\n",
    "        good_keep +=1\n",
    "    else:\n",
    "        good_discard +=1\n",
    "        \n",
    "for data in s2:\n",
    "    if data <= maxSigma:\n",
    "        bad_keep+=1\n",
    "    else:\n",
    "        bad_discard+=1\n",
    "        \n",
    "print(\"Good data points kept: \", good_keep, \"\\nGood data points discarded: \", good_discard, \"\\nTotal good data points: \", good_keep+good_discard)\n",
    "print()\n",
    "print(\"Bad data points kept: \", bad_keep, \"\\nBad data points discarded: \", bad_discard, \"\\nTotal bad data points: \", bad_keep+bad_discard)"
   ]
  },
  {
   "cell_type": "markdown",
   "metadata": {},
   "source": [
    "|             | Good Data | Bad Data |\n",
    "|-------------|-----------|----------|\n",
    "| Kept:       |    99,741 |        1 |\n",
    "| Discarded:  |       259 |        7 |\n",
    "\n",
    "#### B) How does the number of omissions, where you threw out good data, depend on the statistical threshold you chose, and is it a predictable quantity?"
   ]
  },
  {
   "cell_type": "code",
   "execution_count": 5,
   "metadata": {},
   "outputs": [
    {
     "name": "stdout",
     "output_type": "stream",
     "text": [
      "Sigma Threshold:  [1, 1.5, 2, 2.5, 3, 3.5, 4, 5, 6, 7, 10]\n",
      "Good data points retained:  [68120, 86566, 95491, 98813, 99741, 99962, 99998, 100000, 100000, 100000, 100000]\n",
      "Good data points discarded:  [31880, 13434, 4509, 1187, 259, 38, 2, 0, 0, 0, 0]\n",
      "Bad data points retained:  [0, 1, 1, 1, 1, 1, 1, 3, 3, 3, 3]\n",
      "Bad data points discarded:  [8, 7, 7, 7, 7, 7, 7, 5, 5, 5, 5]\n"
     ]
    }
   ],
   "source": [
    "np.random.seed(1234)\n",
    "dist = stats.norm.rvs(loc = 12., scale = 0.4, size = 100000)\n",
    "b = np.array([10., 10.3, 2.1, 0., 0., 15.6, 22.3, 12.7])\n",
    "\n",
    "dist = abs(dist-12)\n",
    "b = abs(b-12)\n",
    "p1 = stats.norm.cdf(-dist,scale=0.4)\n",
    "p1 = 1-p1\n",
    "s1 = stats.norm.ppf(p1, loc=0,scale=1)\n",
    "\n",
    "p2 = 2*stats.norm.cdf(-b,scale=0.4)\n",
    "p2 = 1-p2\n",
    "s2 = stats.norm.ppf(p2,loc=0,scale=1)\n",
    "\n",
    "good_keep = [0,0,0,0,0,0,0, 0, 0, 0, 0]\n",
    "good_discard = [0,0,0,0,0,0,0, 0, 0, 0, 0]\n",
    "bad_keep = [0,0,0,0,0,0,0, 0, 0, 0, 0]\n",
    "bad_discard = [0,0,0,0,0,0,0, 0, 0, 0, 0]\n",
    "max_sigma = [1, 1.5, 2, 2.5, 3, 3.5, 4, 5, 6, 7, 10]\n",
    "index = 0\n",
    "\n",
    "for cutoff in max_sigma:\n",
    "    for good_data in s1:\n",
    "        if good_data <= cutoff:\n",
    "            good_keep[index] +=1\n",
    "        else:\n",
    "            good_discard[index] += 1\n",
    "    for bad_data in s2:\n",
    "        if bad_data <= cutoff:\n",
    "            bad_keep[index]+=1\n",
    "        else:\n",
    "            bad_discard[index]+=1\n",
    "    index+=1\n",
    "\n",
    "print(\"Sigma Threshold: \", max_sigma)\n",
    "print(\"Good data points retained: \", good_keep)\n",
    "print(\"Good data points discarded: \", good_discard)\n",
    "print(\"Bad data points retained: \", bad_keep)\n",
    "print(\"Bad data points discarded: \", bad_discard)"
   ]
  },
  {
   "cell_type": "markdown",
   "metadata": {},
   "source": [
    "|                           | Good Data | Bad Data |\n",
    "|---------------------------|-----------|----------|\n",
    "| Kept @ 1$\\sigma$ :        |    68,120 |        0 |\n",
    "| Discarded @ 1$\\sigma$ :   |    31,880 |        8 |\n",
    "| Kept @ 1.5$\\sigma$ :      |    86,566 |        1 |\n",
    "| Discarded @ 1.5$\\sigma$ : |    13,434 |        7 |\n",
    "| Kept @ 2$\\sigma$ :        |    95,491 |        1 |\n",
    "| Discarded @ 2$\\sigma$ :   |      4509 |        7 |\n",
    "| Kept @ 2.5$\\sigma$ :      |    98,813 |        1 |\n",
    "| Discarded @ 2.5$\\sigma$ : |      1187 |        7 |\n",
    "| Kept @ 3$\\sigma$ :        |     99741 |        1 |\n",
    "| Discarded @ 3$\\sigma$ :   |       259 |        7 |\n",
    "| Kept @ 3.5$\\sigma$ :      |    99,962 |        1 |\n",
    "| Discarded @ 3.5$\\sigma$ : |        38 |        7 |\n",
    "| Kept @ 4$\\sigma$ :        |    99,998 |        1 |\n",
    "| Discarded @ 4$\\sigma$ :   |         2 |        7 |\n",
    "| Kept @ 5$\\sigma$ :        |   100,000 |        3 |\n",
    "| Discarded @ 5$\\sigma$ :   |         0 |        5 |\n",
    "\n",
    "As we can see from the trials above, as the our sigma threshold increases, our discriminator becomes less discriminating - in other words, it is more likely to accept data, whether that data is good or bad. By the time we reach a cutoff of 5 $\\sigma$, every single good data point was accepted.\n",
    "\n",
    "The quantity of omitted datapoints is predictable (though not precisely), as we know the probability that corresponds to any given value of sigma. For example, we know that only 4.56% of data points in a standard normal distribution lie more than 2$\\sigma$ away from the mean in either direction. So, if we generate 100,000 random data points from a standard normal distribution, and discard any points more than 2$\\sigma$ away from the mean, we expect to discard about 4,560 - in reality, we discard 4,509.\n",
    "\n",
    "#### C) Are there mistakes of commission (bad data getting in)? If yes, are they avoidable and how do they depend on your statistical threshold?"
   ]
  },
  {
   "cell_type": "code",
   "execution_count": 6,
   "metadata": {},
   "outputs": [
    {
     "name": "stdout",
     "output_type": "stream",
     "text": [
      "Max Sigma before comission error:  1.404\n",
      "Good data points retained:  83867\n",
      "Good data points discarded:  16133\n",
      "Bad data points retained:  0\n",
      "Bad data points discarded:  8\n"
     ]
    }
   ],
   "source": [
    "np.random.seed(1234)\n",
    "dist = stats.norm.rvs(loc = 12., scale = 0.4, size = 100000)\n",
    "b = np.array([10., 10.3, 2.1, 0., 0., 15.6, 22.3, 12.7])\n",
    "\n",
    "dist = abs(dist-12)\n",
    "b = abs(b-12)\n",
    "p1 = stats.norm.cdf(-dist,scale=0.4)\n",
    "p1 = 1-p1\n",
    "s1 = stats.norm.ppf(p1, loc=0,scale=1)\n",
    "\n",
    "p2 = 2*stats.norm.cdf(-b,scale=0.4)\n",
    "p2 = 1-p2\n",
    "s2 = stats.norm.ppf(p2,loc=0,scale=1)\n",
    "\n",
    "good_keep = 0\n",
    "good_discard = 0\n",
    "bad_keep = 0\n",
    "bad_discard = 0\n",
    "\n",
    "maxSigma = 1\n",
    "sig_figs = 1\n",
    "while sig_figs < 4:\n",
    "    bad_keep = 0        \n",
    "    for data in s2:\n",
    "        if data <= maxSigma:\n",
    "            bad_keep+=1\n",
    "    if bad_keep < 1:\n",
    "        maxSigma = maxSigma + 0.1**sig_figs\n",
    "    else:\n",
    "        maxSigma-= 0.1**sig_figs\n",
    "        sig_figs +=1\n",
    "\n",
    "bad_keep = 0         \n",
    "for data in s1:\n",
    "    if data <= maxSigma:\n",
    "        good_keep +=1\n",
    "    else:\n",
    "        good_discard +=1\n",
    "        \n",
    "for data in s2:\n",
    "    if data <= maxSigma:\n",
    "        bad_keep+=1\n",
    "    else:\n",
    "        bad_discard+=1\n",
    "        \n",
    "print(\"Max Sigma before comission error: \", maxSigma)\n",
    "print(\"Good data points retained: \", good_keep)\n",
    "print(\"Good data points discarded: \", good_discard)\n",
    "print(\"Bad data points retained: \", bad_keep)\n",
    "print(\"Bad data points discarded: \", bad_discard)"
   ]
  },
  {
   "cell_type": "markdown",
   "metadata": {},
   "source": [
    "The maximum threshold for which there are no comission errors given our set of bad data points is $1.404\\sigma$. With any lower threshold, no comission errors will be comitted, but with any threshold higher than this (at the same or lesser number of significant figures), there will be at least one commission error. Note however, that at such a low threshold we discard many more good data points - although given that we keep a significant majority of the good data points, this may be an acceptable sacrifice."
   ]
  }
 ],
 "metadata": {
  "kernelspec": {
   "display_name": "Python 3",
   "language": "python",
   "name": "python3"
  },
  "language_info": {
   "codemirror_mode": {
    "name": "ipython",
    "version": 3
   },
   "file_extension": ".py",
   "mimetype": "text/x-python",
   "name": "python",
   "nbconvert_exporter": "python",
   "pygments_lexer": "ipython3",
   "version": "3.7.4"
  }
 },
 "nbformat": 4,
 "nbformat_minor": 4
}
